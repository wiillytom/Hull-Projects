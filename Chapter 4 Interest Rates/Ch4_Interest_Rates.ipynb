{
 "cells": [
  {
   "cell_type": "code",
   "execution_count": 97,
   "id": "eba03944",
   "metadata": {},
   "outputs": [],
   "source": [
    "import pandas as pd\n",
    "import zipfile\n",
    "import os\n",
    "import datetime\n",
    "import matplotlib.pyplot as plt\n",
    "import numpy as np"
   ]
  },
  {
   "cell_type": "code",
   "execution_count": null,
   "id": "cec786ef",
   "metadata": {},
   "outputs": [],
   "source": [
    "zip_path = os.path.join(os.getcwd(),'bond_data.zip')\n",
    "dfs={}\n",
    "\n",
    "with zipfile.ZipFile(zip_path, 'r') as zip_ref:\n",
    "    for file_name in zip_ref.namelist():\n",
    "        if file_name.startswith('bond_data/') and file_name.endswith('.csv'):\n",
    "            with zip_ref.open(file_name) as f:\n",
    "                dfs[file_name.split('/')[-1]] = pd.read_csv(f)\n",
    "\n",
    "prices_df = dfs['prices.csv']\n",
    "yields_df = dfs['yields.csv']\n",
    "yields_df.set_index(pd.to_datetime(yields_df['time'], unit='ms'), inplace=True)\n",
    "prices_df.set_index(pd.to_datetime(prices_df['time'], unit='ms'), inplace=True)"
   ]
  },
  {
   "cell_type": "code",
   "execution_count": null,
   "id": "ec9a2534",
   "metadata": {},
   "outputs": [
    {
     "data": {
      "text/plain": [
       "(12787, 12787)"
      ]
     },
     "execution_count": 25,
     "metadata": {},
     "output_type": "execute_result"
    }
   ],
   "source": [
    "complete_df = pd.merge(prices_df, yields_df, left_index=True, right_index=True, how='inner')"
   ]
  },
  {
   "cell_type": "markdown",
   "id": "64bf37a9",
   "metadata": {},
   "source": [
    "# Generation of Bond Data "
   ]
  },
  {
   "cell_type": "code",
   "execution_count": 72,
   "id": "aba3626f",
   "metadata": {},
   "outputs": [
    {
     "data": {
      "text/html": [
       "<div>\n",
       "<style scoped>\n",
       "    .dataframe tbody tr th:only-of-type {\n",
       "        vertical-align: middle;\n",
       "    }\n",
       "\n",
       "    .dataframe tbody tr th {\n",
       "        vertical-align: top;\n",
       "    }\n",
       "\n",
       "    .dataframe thead th {\n",
       "        text-align: right;\n",
       "    }\n",
       "</style>\n",
       "<table border=\"1\" class=\"dataframe\">\n",
       "  <thead>\n",
       "    <tr style=\"text-align: right;\">\n",
       "      <th></th>\n",
       "      <th>Principal</th>\n",
       "      <th>Coupon Rate</th>\n",
       "      <th>Coupon Frequency</th>\n",
       "      <th>Time To Maturity (years)</th>\n",
       "    </tr>\n",
       "  </thead>\n",
       "  <tbody>\n",
       "    <tr>\n",
       "      <th>0</th>\n",
       "      <td>100</td>\n",
       "      <td>8%</td>\n",
       "      <td>Semi-annual</td>\n",
       "      <td>4.5</td>\n",
       "    </tr>\n",
       "    <tr>\n",
       "      <th>1</th>\n",
       "      <td>100</td>\n",
       "      <td>5%</td>\n",
       "      <td>Annual</td>\n",
       "      <td>7.0</td>\n",
       "    </tr>\n",
       "  </tbody>\n",
       "</table>\n",
       "</div>"
      ],
      "text/plain": [
       "   Principal Coupon Rate Coupon Frequency  Time To Maturity (years)\n",
       "0        100          8%      Semi-annual                       4.5\n",
       "1        100          5%           Annual                       7.0"
      ]
     },
     "execution_count": 72,
     "metadata": {},
     "output_type": "execute_result"
    }
   ],
   "source": [
    "bond_list = [{\n",
    "        'Principal' : 100,\n",
    "        'Coupon Rate' : '8%',\n",
    "        'Coupon Frequency' : 'Semi-annual',\n",
    "        'Time To Maturity (years)' : 4.5\n",
    "    }]\n",
    "bond_list.append({\n",
    "        'Principal' : 100,\n",
    "        'Coupon Rate' : '5%',\n",
    "        'Coupon Frequency' : 'Annual',\n",
    "        'Time To Maturity (years)' : 7\n",
    "    })\n",
    "bond_data = pd.DataFrame(bond_list)\n",
    "\n",
    "bond_data"
   ]
  },
  {
   "cell_type": "code",
   "execution_count": 113,
   "id": "42f0c1f0",
   "metadata": {},
   "outputs": [],
   "source": [
    "#Spot Curve : \n",
    "spot_curve_6m = [0.027, 0.0285, 0.029, 0.0302, 0.0313, 0.032, 0.0324, 0.033, 0.0335, 0.0339, 0.0342, 0.0345, 0.0347, 0.035]\n",
    "\n"
   ]
  },
  {
   "cell_type": "code",
   "execution_count": 114,
   "id": "cbd172d8",
   "metadata": {},
   "outputs": [
    {
     "data": {
      "image/png": "[encoded data removed]",
      "text/plain": [
       "<Figure size 640x480 with 1 Axes>"
      ]
     },
     "metadata": {},
     "output_type": "display_data"
    }
   ],
   "source": [
    "x = np.arange(0.5, 7.5, 0.5)\n",
    "plt.plot(x, spot_curve_6m)\n",
    "plt.ylabel('Spot Rate')\n",
    "plt.xlabel('Years')\n",
    "plt.xticks(np.arange(1,8));"
   ]
  },
  {
   "cell_type": "code",
   "execution_count": 78,
   "id": "a1a3695c",
   "metadata": {},
   "outputs": [
    {
     "name": "stderr",
     "output_type": "stream",
     "text": [
      "/var/folders/f7/krq4wgqx3gx1gxzm3td0hqvr0000gn/T/ipykernel_41065/645196800.py:9: FutureWarning: Downcasting behavior in `replace` is deprecated and will be removed in a future version. To retain the old behavior, explicitly call `result.infer_objects(copy=False)`. To opt-in to the future behavior, set `pd.set_option('future.no_silent_downcasting', True)`\n",
      "  df['Coupon Frequency'] = df['Coupon Frequency'].replace(freq_map).astype(float)\n"
     ]
    }
   ],
   "source": [
    "def clean(data) : \n",
    "    df = data.copy()\n",
    "    df['Coupon Rate'] = df['Coupon Rate'].astype(str).str.replace('%', '').astype(int)\n",
    "    freq_map = {\n",
    "        'Annual' : 1,\n",
    "        'Semi-annual' : 1/2, \n",
    "        'Quarterly' : 1/4\n",
    "    }\n",
    "    df['Coupon Frequency'] = df['Coupon Frequency'].replace(freq_map).astype(float)\n",
    "    df['Nb Coupons'] = df['Time To Maturity (years)']/df['Coupon Frequency']\n",
    "    return df\n",
    "df = clean(bond_data)"
   ]
  },
  {
   "cell_type": "code",
   "execution_count": 175,
   "id": "3c379645",
   "metadata": {},
   "outputs": [],
   "source": [
    "def bond_pricer(data,yield_curve):\n",
    "    df = data.copy()\n",
    "    for i in range(len(df)):\n",
    "        bp = 0\n",
    "        coupon = df.iloc[i,1]*df.iloc[i,2] #Coupon Rate * Coupon Frequency \n",
    "        for j in range((df.iloc[i,4]).astype(int)):\n",
    "            bp += coupon*np.exp(-yield_curve[j]*(j+1)/2)\n",
    "        bp+= df.iloc[i,0]*np.exp(-yield_curve[(df.iloc[i,4].astype(int))-1]*df.iloc[i,3])\n",
    "        df.loc[i,'Bond Price'] = bp\n",
    "    return df\n",
    "df_with_price = bond_pricer(df, spot_curve_6m)"
   ]
  },
  {
   "cell_type": "code",
   "execution_count": 164,
   "id": "4d8d1aa1",
   "metadata": {},
   "outputs": [
    {
     "data": {
      "text/html": [
       "<div>\n",
       "<style scoped>\n",
       "    .dataframe tbody tr th:only-of-type {\n",
       "        vertical-align: middle;\n",
       "    }\n",
       "\n",
       "    .dataframe tbody tr th {\n",
       "        vertical-align: top;\n",
       "    }\n",
       "\n",
       "    .dataframe thead th {\n",
       "        text-align: right;\n",
       "    }\n",
       "</style>\n",
       "<table border=\"1\" class=\"dataframe\">\n",
       "  <thead>\n",
       "    <tr style=\"text-align: right;\">\n",
       "      <th></th>\n",
       "      <th>Principal</th>\n",
       "      <th>Coupon Rate</th>\n",
       "      <th>Coupon Frequency</th>\n",
       "      <th>Time To Maturity (years)</th>\n",
       "      <th>Nb Coupons</th>\n",
       "      <th>Bond Price</th>\n",
       "    </tr>\n",
       "  </thead>\n",
       "  <tbody>\n",
       "    <tr>\n",
       "      <th>0</th>\n",
       "      <td>100</td>\n",
       "      <td>8</td>\n",
       "      <td>0.5</td>\n",
       "      <td>4.5</td>\n",
       "      <td>9.0</td>\n",
       "      <td>119.285100</td>\n",
       "    </tr>\n",
       "    <tr>\n",
       "      <th>1</th>\n",
       "      <td>100</td>\n",
       "      <td>5</td>\n",
       "      <td>1.0</td>\n",
       "      <td>7.0</td>\n",
       "      <td>7.0</td>\n",
       "      <td>112.624539</td>\n",
       "    </tr>\n",
       "  </tbody>\n",
       "</table>\n",
       "</div>"
      ],
      "text/plain": [
       "   Principal  Coupon Rate  Coupon Frequency  Time To Maturity (years)  \\\n",
       "0        100            8               0.5                       4.5   \n",
       "1        100            5               1.0                       7.0   \n",
       "\n",
       "   Nb Coupons  Bond Price  \n",
       "0         9.0  119.285100  \n",
       "1         7.0  112.624539  "
      ]
     },
     "execution_count": 164,
     "metadata": {},
     "output_type": "execute_result"
    }
   ],
   "source": [
    "df_with_price.head()\n"
   ]
  },
  {
   "cell_type": "code",
   "execution_count": 177,
   "id": "306b4495",
   "metadata": {},
   "outputs": [
    {
     "data": {
      "text/plain": [
       "119.28510015321632"
      ]
     },
     "execution_count": 177,
     "metadata": {},
     "output_type": "execute_result"
    }
   ],
   "source": [
    "bond_pricer(df,spot_curve_6m).loc[0,'Bond Price']"
   ]
  },
  {
   "cell_type": "code",
   "execution_count": 186,
   "id": "15bea2c0",
   "metadata": {},
   "outputs": [
    {
     "data": {
      "text/html": [
       "<div>\n",
       "<style scoped>\n",
       "    .dataframe tbody tr th:only-of-type {\n",
       "        vertical-align: middle;\n",
       "    }\n",
       "\n",
       "    .dataframe tbody tr th {\n",
       "        vertical-align: top;\n",
       "    }\n",
       "\n",
       "    .dataframe thead th {\n",
       "        text-align: right;\n",
       "    }\n",
       "</style>\n",
       "<table border=\"1\" class=\"dataframe\">\n",
       "  <thead>\n",
       "    <tr style=\"text-align: right;\">\n",
       "      <th></th>\n",
       "      <th>Principal</th>\n",
       "      <th>Coupon Rate</th>\n",
       "      <th>Coupon Frequency</th>\n",
       "      <th>Time To Maturity (years)</th>\n",
       "      <th>Nb Coupons</th>\n",
       "      <th>Yield To Maturity</th>\n",
       "    </tr>\n",
       "  </thead>\n",
       "  <tbody>\n",
       "    <tr>\n",
       "      <th>0</th>\n",
       "      <td>100</td>\n",
       "      <td>8</td>\n",
       "      <td>0.5</td>\n",
       "      <td>4.5</td>\n",
       "      <td>9.0</td>\n",
       "      <td>3.330</td>\n",
       "    </tr>\n",
       "    <tr>\n",
       "      <th>1</th>\n",
       "      <td>100</td>\n",
       "      <td>5</td>\n",
       "      <td>1.0</td>\n",
       "      <td>7.0</td>\n",
       "      <td>7.0</td>\n",
       "      <td>0.002</td>\n",
       "    </tr>\n",
       "  </tbody>\n",
       "</table>\n",
       "</div>"
      ],
      "text/plain": [
       "   Principal  Coupon Rate  Coupon Frequency  Time To Maturity (years)  \\\n",
       "0        100            8               0.5                       4.5   \n",
       "1        100            5               1.0                       7.0   \n",
       "\n",
       "   Nb Coupons  Yield To Maturity  \n",
       "0         9.0              3.330  \n",
       "1         7.0              0.002  "
      ]
     },
     "execution_count": 186,
     "metadata": {},
     "output_type": "execute_result"
    }
   ],
   "source": [
    "def yield_finder(data) : \n",
    "    for i in range(len(data)):\n",
    "        y=0.002\n",
    "        bp=0\n",
    "        market_price = data.loc[i,'Bond Price']\n",
    "        principal = data.loc[i,'Principal']\n",
    "        n = data.loc[i,'Time To Maturity (years)']\n",
    "        rate_adjuster = data.loc[i,'Coupon Frequency']\n",
    "        coupon = data.loc[i,'Coupon Rate']*rate_adjuster\n",
    "        nb_coupon = data.loc[i,'Nb Coupons']\n",
    "        while np.abs(bp-market_price) > 0.5:\n",
    "            bp = coupon*((1-(1+y*rate_adjuster)**-nb_coupon)/(y*rate_adjuster))+principal/((1+y*rate_adjuster)**n)\n",
    "            y+=0.0001\n",
    "        data.loc[i,'Yield'] = round(y*100,2)\n",
    "    return df\n",
    "yield_finder(df_with_price)"
   ]
  },
  {
   "cell_type": "code",
   "execution_count": 171,
   "id": "b85e4bc2",
   "metadata": {},
   "outputs": [
    {
     "data": {
      "text/html": [
       "<div>\n",
       "<style scoped>\n",
       "    .dataframe tbody tr th:only-of-type {\n",
       "        vertical-align: middle;\n",
       "    }\n",
       "\n",
       "    .dataframe tbody tr th {\n",
       "        vertical-align: top;\n",
       "    }\n",
       "\n",
       "    .dataframe thead th {\n",
       "        text-align: right;\n",
       "    }\n",
       "</style>\n",
       "<table border=\"1\" class=\"dataframe\">\n",
       "  <thead>\n",
       "    <tr style=\"text-align: right;\">\n",
       "      <th></th>\n",
       "      <th>Principal</th>\n",
       "      <th>Coupon Rate</th>\n",
       "      <th>Coupon Frequency</th>\n",
       "      <th>Time To Maturity (years)</th>\n",
       "      <th>Nb Coupons</th>\n",
       "      <th>Bond Price</th>\n",
       "    </tr>\n",
       "  </thead>\n",
       "  <tbody>\n",
       "    <tr>\n",
       "      <th>0</th>\n",
       "      <td>100</td>\n",
       "      <td>8</td>\n",
       "      <td>0.5</td>\n",
       "      <td>4.5</td>\n",
       "      <td>9.0</td>\n",
       "      <td>119.285100</td>\n",
       "    </tr>\n",
       "    <tr>\n",
       "      <th>1</th>\n",
       "      <td>100</td>\n",
       "      <td>5</td>\n",
       "      <td>1.0</td>\n",
       "      <td>7.0</td>\n",
       "      <td>7.0</td>\n",
       "      <td>112.624539</td>\n",
       "    </tr>\n",
       "  </tbody>\n",
       "</table>\n",
       "</div>"
      ],
      "text/plain": [
       "   Principal  Coupon Rate  Coupon Frequency  Time To Maturity (years)  \\\n",
       "0        100            8               0.5                       4.5   \n",
       "1        100            5               1.0                       7.0   \n",
       "\n",
       "   Nb Coupons  Bond Price  \n",
       "0         9.0  119.285100  \n",
       "1         7.0  112.624539  "
      ]
     },
     "execution_count": 171,
     "metadata": {},
     "output_type": "execute_result"
    }
   ],
   "source": [
    "df_with_price"
   ]
  },
  {
   "cell_type": "code",
   "execution_count": null,
   "id": "71432bda",
   "metadata": {},
   "outputs": [],
   "source": []
  }
 ],
 "metadata": {
  "kernelspec": {
   "display_name": "base",
   "language": "python",
   "name": "python3"
  },
  "language_info": {
   "codemirror_mode": {
    "name": "ipython",
    "version": 3
   },
   "file_extension": ".py",
   "mimetype": "text/x-python",
   "name": "python",
   "nbconvert_exporter": "python",
   "pygments_lexer": "ipython3",
   "version": "3.12.2"
  }
 },
 "nbformat": 4,
 "nbformat_minor": 5
}
